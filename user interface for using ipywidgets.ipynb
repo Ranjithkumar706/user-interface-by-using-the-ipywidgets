{
 "cells": [
  {
   "cell_type": "code",
   "execution_count": 1,
   "id": "647c0552",
   "metadata": {},
   "outputs": [
    {
     "data": {
      "application/vnd.jupyter.widget-view+json": {
       "model_id": "0d427cca640c4d20b6fda23f4e501158",
       "version_major": 2,
       "version_minor": 0
      },
      "text/plain": [
       "VBox(children=(HTML(value='<H1>Application Forms</H1>'), Text(value='', description='name:'), DatePicker(value…"
      ]
     },
     "metadata": {},
     "output_type": "display_data"
    }
   ],
   "source": [
    "import ipywidgets as w\n",
    "a1=w.HTML(\"<H1>Application Forms</H1>\")\n",
    "b1=w.Text(description=\"name:\")\n",
    "c1=w.DatePicker(description=\"Date of Birth\")\n",
    "d1=w.RadioButtons(description=\"Gender\",options=[\"male\",\"Female\"])\n",
    "e1=w.Text(description=\"F.N:\",value=\"Name\")\n",
    "f1=w.Textarea(description=\"school\")\n",
    "g1=w.Textarea(description=\"address\")\n",
    "h1=w.Button(description=\"submit\")\n",
    "h3=w.Textarea(description=\"values\")\n",
    "display(w.VBox([a1,b1,c1,d1,e1,h1,h3]))\n",
    "def prt():\n",
    "    h3.value=(\"{},{},{},{},{},{}\".format(b1.value,c1.value,d1.value,e1.value,(f1.value),(g1.value)))\n",
    "def send(self):\n",
    "    w.interact(prt)\n",
    "h1.on_click(send)"
   ]
  },
  {
   "cell_type": "code",
   "execution_count": null,
   "id": "d8abbc53",
   "metadata": {},
   "outputs": [],
   "source": []
  }
 ],
 "metadata": {
  "kernelspec": {
   "display_name": "Python 3 (ipykernel)",
   "language": "python",
   "name": "python3"
  },
  "language_info": {
   "codemirror_mode": {
    "name": "ipython",
    "version": 3
   },
   "file_extension": ".py",
   "mimetype": "text/x-python",
   "name": "python",
   "nbconvert_exporter": "python",
   "pygments_lexer": "ipython3",
   "version": "3.11.5"
  }
 },
 "nbformat": 4,
 "nbformat_minor": 5
}
